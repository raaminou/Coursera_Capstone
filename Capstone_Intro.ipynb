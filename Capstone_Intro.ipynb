{
 "cells": [
  {
   "cell_type": "markdown",
   "metadata": {},
   "source": [
    "##Searching for a neighborhood comparable to Washington DC's Petworth  in New York City##\n",
    "\n",
    "###Introduction###\n",
    "Sophie and her family have been living in the Petworth neighborhood in Washington DC for Many years. They enjoy the quiet and peaceful atmosphere and the convenient proximity of small shops and grocery stores. They have come to appreciate the precious mix of new restaurants, art gallery and entertainment that has come to define this neighborhood.\n",
    "Sophie was just offered her dream job in New York City and is due to start next month. She's excited to start her new job but feels very sad to leave her Petworth neighborhood she loves so much.\n",
    "As she's planning her move and looking for a new place to call home in NYC, we are going to use the new skills we learned in this class to help her choose a neighborhood that is the most similar to her beloved Petworth.\n",
    "\n",
    "\n",
    "\n",
    "###Data###\n",
    "For this project we will mainly use Foursquare location data to help describe the landscape of our DC and New York neighborhoods in terms and venues and activities. We also include to demographic and crime data to help break the tie if more one NY neighborhood matches Petworth.\n",

    "Markup : * We use the Foursquare API to explore DC’s Petworth and New York city neighborhood and identify the venue categories in each neighborhood.\n",
    "         * The Petworth neighborhood demographic and crime data is extracted from several tables in https://opendata.dc.gov/\n",
    "         * The New York city neighborhood demographic and crime data is extracted from several tables in https://opendata.cityofnewyork.us/\n",
    "\n",
    "\n"
   ]
  },
  {
   "cell_type": "markdown",
   "metadata": {},
   "source": []
  }
 ],
 "metadata": {
  "kernelspec": {
   "display_name": "Python",
   "language": "python",
   "name": "conda-env-python-py"
  },
  "language_info": {
   "codemirror_mode": {
    "name": "ipython",
    "version": 3
   },
   "file_extension": ".py",
   "mimetype": "text/x-python",
   "name": "python",
   "nbconvert_exporter": "python",
   "pygments_lexer": "ipython3",
   "version": "3.6.10"
  }
 },
 "nbformat": 4,
 "nbformat_minor": 4
}
