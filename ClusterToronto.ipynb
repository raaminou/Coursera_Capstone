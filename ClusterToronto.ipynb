
# coding: utf-8

# Peer-graded Assignment: Segmenting and Clustering Neighborhoods in Toronto

# Import all necessary Libraries

# In[59]:


import requests
import lxml.html as lh
import pandas as pd
from bs4 import BeautifulSoup


# Assign Web page link to variable and request the page

# In[60]:


#hint: requests.get()
wikipedia_link='https://en.wikipedia.org/wiki/List_of_postal_codes_of_Canada:_M'
wiki_page = requests.get(wikipedia_link)


# Grab the page source code content using BeautifulSoup library

# In[61]:


soup = BeautifulSoup(wiki_page.content, 'lxml')


# Get the HTML corresponding the table of interest

# In[62]:


tb = soup.find('table', class_='wikitable sortable')


# Extract the table rows into a list

# In[63]:


for tbl in tb:
    rows = tb.find_all('tr')
print(rows[0])


# Format list to be used for DF header: Remove HTML tags and extraenous characters from cell text.
#     We then split the string to get a list.

# In[64]:


str_cells = str(rows[0].find_all('th'))
cleantext = BeautifulSoup(str_cells, "lxml").get_text()
cleantext = cleantext.replace(']', '') 
cleantext = cleantext.replace('[', '') 
cleantext = cleantext.replace('\n', '') 
cleantext = cleantext.replace(' ', '') 
lst_header = cleantext.split(',')
lst_header


# Format each row for DF: Remove HTML tags and extraenous characters from cell text. We then split the string to get a list.

# In[65]:


new_rows = rows[1:]
list_rows = []
for row in new_rows:
    str_cells = str(row.find_all('td'))
    cleantext = BeautifulSoup(str_cells, "lxml").get_text()
    cleantext = cleantext.replace(']', '') 
    cleantext = cleantext.replace('[', '') 
    cleantext = cleantext.replace('\n', '') 
    lst = cleantext.split(',')
    list_rows.append(lst)
print(list_rows[1])
type(list_rows)


# Convert the list into a dataframe

# In[66]:


df = pd.DataFrame(list_rows)
df.columns = lst_header
df.head(20)


# Remove rows with " Not assigned" boroughs

# In[67]:


df = df[df['Borough']!=" Not assigned"]
df.head(10)


# Assigne borough's name to neighbourhood if neighbourhood not assigned

# In[68]:


for index, row in df.iterrows():
    if row['Neighbourhood'] == " Not assigned":
        row['Neighbourhood'] = row['Borough']
df.head(10)


# Using groupby to group borough and merge content of neighbourhood for borough with multiple neighbourhood

# In[69]:


df_grouped = df.groupby(["Postcode", "Borough"])['Neighbourhood'].apply(lambda tags: ','.join(tags)).reset_index(name='Neighbourhood')
df_grouped.head()


# Checking shape of Dataframe

# In[70]:


df_grouped.shape

